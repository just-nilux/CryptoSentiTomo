{
 "cells": [
  {
   "cell_type": "markdown",
   "metadata": {},
   "source": [
    "# Install PRAW if the system does not have"
   ]
  },
  {
   "cell_type": "code",
   "execution_count": 5,
   "metadata": {},
   "outputs": [],
   "source": [
    "#! pip install praw"
   ]
  },
  {
   "cell_type": "code",
   "execution_count": 6,
   "metadata": {
    "collapsed": true
   },
   "outputs": [],
   "source": [
    "import praw"
   ]
  },
  {
   "cell_type": "markdown",
   "metadata": {},
   "source": [
    "# Fill in Auth for Reddit App"
   ]
  },
  {
   "cell_type": "code",
   "execution_count": 15,
   "metadata": {},
   "outputs": [],
   "source": [
    "r = praw.Reddit(user_agent = \"CryptoSenti\",\n",
    "                client_id='8BviwD5HYVz1rQ',\n",
    "                client_secret='c-BmIfodzs6rSRDOdpsLFEC8amU',\n",
    "                password='147622119!@#',\n",
    "                username='rias_serena')"
   ]
  },
  {
   "cell_type": "code",
   "execution_count": 17,
   "metadata": {},
   "outputs": [
    {
     "name": "stdout",
     "output_type": "stream",
     "text": [
      "rias_serena\n"
     ]
    }
   ],
   "source": [
    "print(r.user.me())"
   ]
  },
  {
   "cell_type": "markdown",
   "metadata": {},
   "source": [
    "# Get threads & comments from /r/Cryptocurrency"
   ]
  },
  {
   "cell_type": "code",
   "execution_count": null,
   "metadata": {
    "collapsed": true
   },
   "outputs": [],
   "source": [
    "# https://pythonprogramming.net/introduction-python-reddit-api-wrapper-praw-tutorial/"
   ]
  },
  {
   "cell_type": "code",
   "execution_count": 23,
   "metadata": {},
   "outputs": [],
   "source": [
    "subreddit = r.subreddit('Cryptocurrency')"
   ]
  },
  {
   "cell_type": "code",
   "execution_count": 37,
   "metadata": {},
   "outputs": [],
   "source": [
    "hot_python = subreddit.hot(limit=100)"
   ]
  },
  {
   "cell_type": "code",
   "execution_count": 42,
   "metadata": {},
   "outputs": [
    {
     "name": "stdout",
     "output_type": "stream",
     "text": [
      "Title: This is how you should store your keys., ups: 194, downs: 0\n",
      "Title: Would you like to see Amazon accepting Bitcoin & even Altcoins as new payment method?, ups: 868, downs: 0\n",
      "Title: Singapore won't regulate cryptocurrency, ups: 215, downs: 0\n",
      "Title: Vitalik Buterin: 90% of token startups will fall, ups: 98, downs: 0\n",
      "Title: Kyber partners with Enigma, ups: 76, downs: 0\n",
      "Title: A quick snapshot of what would have happened if a year ago you decided on a diversified hodl altcoin strategy., ups: 182, downs: 0\n",
      "Title: Former Wal-Mart General Counsel Discusses the Future of Drone Delivery Services and AERO Token, ups: 36, downs: 0\n",
      "Title: Decred launches hackathon for its brand new Proposal System, first place gets 10k USD, second place 5k and third place 2.5k, ups: 23, downs: 0\n"
     ]
    }
   ],
   "source": [
    "hot_python = subreddit.hot(limit=10)\n",
    "for submission in hot_python:\n",
    "    if not submission.stickied:\n",
    "        print('Title: {}, ups: {}, downs: {}'.format(submission.title,\n",
    "                                                                           submission.ups,\n",
    "                                                                           submission.downs))"
   ]
  },
  {
   "cell_type": "code",
   "execution_count": null,
   "metadata": {
    "collapsed": true
   },
   "outputs": [],
   "source": []
  }
 ],
 "metadata": {
  "kernelspec": {
   "display_name": "Python 3",
   "language": "python",
   "name": "python3"
  },
  "language_info": {
   "codemirror_mode": {
    "name": "ipython",
    "version": 3
   },
   "file_extension": ".py",
   "mimetype": "text/x-python",
   "name": "python",
   "nbconvert_exporter": "python",
   "pygments_lexer": "ipython3",
   "version": "3.6.2"
  }
 },
 "nbformat": 4,
 "nbformat_minor": 2
}
